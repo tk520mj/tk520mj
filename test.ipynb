{
 "cells": [
  {
   "cell_type": "code",
   "execution_count": 1,
   "metadata": {},
   "outputs": [
    {
     "name": "stdout",
     "output_type": "stream",
     "text": [
      "hello world\n"
     ]
    }
   ],
   "source": [
    "print('hello world')"
   ]
  },
  {
   "cell_type": "code",
   "execution_count": 2,
   "metadata": {},
   "outputs": [
    {
     "name": "stdout",
     "output_type": "stream",
     "text": [
      "1\n",
      "3\n",
      "5\n",
      "7\n",
      "9\n"
     ]
    }
   ],
   "source": [
    "for i in range(1,10,2):\n",
    "    print(i)"
   ]
  },
  {
   "cell_type": "markdown",
   "metadata": {},
   "source": []
  },
  {
   "cell_type": "code",
   "execution_count": 3,
   "metadata": {},
   "outputs": [
    {
     "name": "stdout",
     "output_type": "stream",
     "text": [
      "1*1=1,1*2=2,1*3=3,1*4=4,1*5=5,1*6=6,1*7=7,1*8=8,1*9=9,2*1=2,2*2=4,2*3=6,2*4=8,2*5=10,2*6=12,2*7=14,2*8=16,2*9=18,3*1=3,3*2=6,3*3=9,3*4=12,3*5=15,3*6=18,3*7=21,3*8=24,3*9=27,4*1=4,4*2=8,4*3=12,4*4=16,4*5=20,4*6=24,4*7=28,4*8=32,4*9=36,5*1=5,5*2=10,5*3=15,5*4=20,5*5=25,5*6=30,5*7=35,5*8=40,5*9=45,6*1=6,6*2=12,6*3=18,6*4=24,6*5=30,6*6=36,6*7=42,6*8=48,6*9=54,7*1=7,7*2=14,7*3=21,7*4=28,7*5=35,7*6=42,7*7=49,7*8=56,7*9=63,8*1=8,8*2=16,8*3=24,8*4=32,8*5=40,8*6=48,8*7=56,8*8=64,8*9=72,9*1=9,9*2=18,9*3=27,9*4=36,9*5=45,9*6=54,9*7=63,9*8=72,9*9=81,"
     ]
    }
   ],
   "source": [
    "for i in range(1,10):\n",
    "    for j in range(1,10):\n",
    "        print(f\"{i}*{j}={i*j}\",end=\",\")\n"
   ]
  },
  {
   "cell_type": "code",
   "execution_count": 4,
   "metadata": {},
   "outputs": [
    {
     "name": "stdout",
     "output_type": "stream",
     "text": [
      "已存夠了,存了30000元\n"
     ]
    }
   ],
   "source": [
    "deposit=0\n",
    "while(deposit<30000):\n",
    "        value=int(input(\"每月存入金額\"))\n",
    "        deposit+=value\n",
    "print(f\"已存夠了,存了{deposit}元\")\n",
    "\n",
    "\n",
    "\n"
   ]
  },
  {
   "cell_type": "code",
   "execution_count": 7,
   "metadata": {},
   "outputs": [
    {
     "ename": "TypeError",
     "evalue": "unsupported operand type(s) for +=: 'int' and 'str'",
     "output_type": "error",
     "traceback": [
      "\u001b[0;31m---------------------------------------------------------------------------\u001b[0m",
      "\u001b[0;31mTypeError\u001b[0m                                 Traceback (most recent call last)",
      "Cell \u001b[0;32mIn[7], line 5\u001b[0m\n\u001b[1;32m      3\u001b[0m \u001b[39mwhile\u001b[39;00m(deposit\u001b[39m<\u001b[39m\u001b[39m30000\u001b[39m):\n\u001b[1;32m      4\u001b[0m     value\u001b[39m=\u001b[39m\u001b[39minput\u001b[39m(\u001b[39m\"\u001b[39m\u001b[39m每月存入金額\u001b[39m\u001b[39m\"\u001b[39m)\n\u001b[0;32m----> 5\u001b[0m     deposit\u001b[39m+\u001b[39m\u001b[39m=\u001b[39mvalue\n\u001b[1;32m      6\u001b[0m \u001b[39mprint\u001b[39m(\u001b[39mf\u001b[39m\u001b[39m\"\u001b[39m\u001b[39m已存夠了,存了\u001b[39m\u001b[39m{\u001b[39;00mdeposit\u001b[39m}\u001b[39;00m\u001b[39m元\u001b[39m\u001b[39m\"\u001b[39m)\n\u001b[1;32m      9\u001b[0m \u001b[39mwhile\u001b[39;00m(deposit\u001b[39m<\u001b[39m\u001b[39m30000\u001b[39m):\n",
      "\u001b[0;31mTypeError\u001b[0m: unsupported operand type(s) for +=: 'int' and 'str'"
     ]
    }
   ],
   "source": [
    "deposit=0\n",
    "deposit=0\n",
    "while(deposit<30000):\n",
    "    value=input(\"每月存入金額\")\n",
    "    deposit+=value\n",
    "print(f\"已存夠了,存了{deposit}元\")\n",
    "\n",
    "\n",
    "while(deposit<30000):\n",
    "    value=input(\"每月存入金額\")\n",
    "    deposit+=value\n",
    "print(f\"已存夠了,存了{deposit}元\")\n",
    "\n"
   ]
  },
  {
   "cell_type": "code",
   "execution_count": 6,
   "metadata": {},
   "outputs": [
    {
     "name": "stdout",
     "output_type": "stream",
     "text": [
      "已存夠了,存了114500元\n"
     ]
    }
   ],
   "source": [
    "deposit=0\n",
    "\n",
    "while(deposit<30000):\n",
    "    value=int(input(\"每月存入金額\"))\n",
    "    deposit+=value\n",
    "print(f\"已存夠了,存了{deposit}元\")\n",
    "\n"
   ]
  },
  {
   "cell_type": "code",
   "execution_count": null,
   "metadata": {},
   "outputs": [],
   "source": [
    "sum=0\n",
    "num=0\n",
    "while ture:\n",
    "    num+=1\n",
    "    input_value=int(input(f\"請輸入{\"num\"))"
   ]
  },
  {
   "cell_type": "code",
   "execution_count": 2,
   "metadata": {},
   "outputs": [
    {
     "ename": "IndentationError",
     "evalue": "unexpected indent (2346592530.py, line 16)",
     "output_type": "error",
     "traceback": [
      "\u001b[0;36m  Cell \u001b[0;32mIn[2], line 16\u001b[0;36m\u001b[0m\n\u001b[0;31m    print(f\"你已經猜了{count}次\")\u001b[0m\n\u001b[0m    ^\u001b[0m\n\u001b[0;31mIndentationError\u001b[0m\u001b[0;31m:\u001b[0m unexpected indent\n"
     ]
    }
   ],
   "source": [
    "import random\n",
    "def playgame():\n",
    "    min=1\n",
    "    max=10\n",
    "    count=0\n",
    "    target=random.randint(min,max)\n",
    "    while True:\n",
    "        keyin=int(input(f\"猜數字範圍{min}~{max}:\"))\n",
    "        count+=1\n",
    "        if(keyin==target):\n",
    "            print(f\"win,答案是{target}\")\n",
    "            print(f\"你已經猜了{count}\")\n",
    "            break\n",
    "        else:\n",
    "         print(\"猜錯了\")\n",
    "            print(f\"你已經猜了{count}次\")\n",
    "    print(\"由細結束\")\n",
    "while True:\n",
    "    playgame()\n",
    "    p_a=input(\"還要玩嗎?(y/n)\")\n",
    "    if not (p_a=='y'):\n",
    "        break\n",
    "print(\"遊戲結束\")\n",
    "\n",
    "\n",
    "\n"
   ]
  },
  {
   "cell_type": "code",
   "execution_count": null,
   "metadata": {},
   "outputs": [],
   "source": []
  },
  {
   "cell_type": "code",
   "execution_count": 3,
   "metadata": {},
   "outputs": [
    {
     "ename": "NameError",
     "evalue": "name 'stu1' is not defined",
     "output_type": "error",
     "traceback": [
      "\u001b[0;31m---------------------------------------------------------------------------\u001b[0m",
      "\u001b[0;31mNameError\u001b[0m                                 Traceback (most recent call last)",
      "Cell \u001b[0;32mIn[3], line 1\u001b[0m\n\u001b[0;32m----> 1\u001b[0m \u001b[39mfor\u001b[39;00m scor \u001b[39min\u001b[39;00m stu1:\n\u001b[1;32m      2\u001b[0m     \u001b[39mprint\u001b[39m(scor)\n",
      "\u001b[0;31mNameError\u001b[0m: name 'stu1' is not defined"
     ]
    }
   ],
   "source": [
    "for scor in stu1:\n",
    "    print(scor)"
   ]
  }
 ],
 "metadata": {
  "kernelspec": {
   "display_name": "Python 3",
   "language": "python",
   "name": "python3"
  },
  "language_info": {
   "codemirror_mode": {
    "name": "ipython",
    "version": 3
   },
   "file_extension": ".py",
   "mimetype": "text/x-python",
   "name": "python",
   "nbconvert_exporter": "python",
   "pygments_lexer": "ipython3",
   "version": "3.10.8"
  },
  "orig_nbformat": 4
 },
 "nbformat": 4,
 "nbformat_minor": 2
}
